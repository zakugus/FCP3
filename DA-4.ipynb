{
 "cells": [
  {
   "cell_type": "markdown",
   "id": "6db31ef1",
   "metadata": {},
   "source": [
    "### cos類似度の計算"
   ]
  },
  {
   "cell_type": "code",
   "execution_count": 1,
   "id": "22510b64",
   "metadata": {},
   "outputs": [
    {
     "name": "stdout",
     "output_type": "stream",
     "text": [
      "(1) Cosine similarity: 0.16222142113076252\n",
      "(2) Cosine similarity: 0.5976143046671968\n",
      "(3) Cosine similarity: 0.4602873089491617\n"
     ]
    }
   ],
   "source": [
    "### リスト1 ###\n",
    "\n",
    "# cos類似度 (cosine similarity) の計算 \n",
    "\n",
    "from collections import Counter\n",
    "import math\n",
    "\n",
    "def cosine_similarity(query, document):\n",
    "    # クエリとドキュメントをCounterに変換して、操作を容易にする\n",
    "    query_counter = Counter(query)\n",
    "    document_counter = Counter(document)\n",
    "    \n",
    "    # 内積を計算する\n",
    "    dot_product = sum(query_counter[word] * document_counter.get(word, 0) for word in query_counter)\n",
    "    \n",
    "    # 両ベクトルの距離（ノルム）を計算する\n",
    "    query_norm = math.sqrt(sum(value ** 2 for value in query_counter.values()))\n",
    "    document_norm = math.sqrt(sum(value ** 2 for value in document_counter.values()))\n",
    "    \n",
    "    # cos類似度を計算する\n",
    "    if query_norm == 0 or document_norm == 0:\n",
    "        # ゼロで除算することを避ける\n",
    "        return 0\n",
    "    else:\n",
    "        return dot_product / (query_norm * document_norm)\n",
    "\n",
    "# クエリベクトルと文書ベクトルを定義する---(1)\n",
    "query_vector = {'大阪': 1, '観光': 1}\n",
    "document_vector = {'大阪':0, '京都':3, '奈良':1, '交通':2, '観光':1, '経済':0, '宿泊':1, '歴史':1, '公園':1, 'みやげ':1}\n",
    "\n",
    "# cos類似度を計算する ---(1)\n",
    "cos_sim = cosine_similarity(query_vector, document_vector)\n",
    "print(\"(1) Cosine similarity:\", cos_sim)\n",
    "\n",
    "\n",
    "# 文書ベクトルの単語の頻度を変化させる---(2)\n",
    "# document_vector において、'大阪':0 => 4,\n",
    "query_vector = {'大阪': 1, '観光': 1}\n",
    "document_vector = {'大阪':4, '京都':3, '奈良':1, '交通':2, '観光':1, '経済':0, '宿泊':1, '歴史':1, '公園':1, 'みやげ':1}\n",
    "\n",
    "# cos類似度を計算する ---(2)\n",
    "cos_sim = cosine_similarity(query_vector, document_vector)\n",
    "print(\"(2) Cosine similarity:\", cos_sim)\n",
    "\n",
    "\n",
    "# 文書ベクトルの単語の頻度を変化させる---(3)\n",
    "# document_vector において、'奈良':1 => 3, '京都':3 => 5,\n",
    "query_vector = {'大阪': 1, '観光': 1}\n",
    "document_vector = {'大阪':4, '京都':5, '奈良':3, '交通':2, '観光':1, '経済':0, '宿泊':1, '歴史':1, '公園':1, 'みやげ':1}\n",
    "\n",
    "# cos類似度を計算する ---(3)\n",
    "cos_sim = cosine_similarity(query_vector, document_vector)\n",
    "print(\"(3) Cosine similarity:\", cos_sim)"
   ]
  },
  {
   "cell_type": "markdown",
   "id": "22b1862a",
   "metadata": {},
   "source": [
    "### 教師なし学習 ($k$-means クラスタリング)"
   ]
  },
  {
   "cell_type": "code",
   "execution_count": 2,
   "id": "2c5d2665",
   "metadata": {},
   "outputs": [
    {
     "name": "stderr",
     "output_type": "stream",
     "text": [
      "C:\\Users\\zakug\\anaconda3\\Lib\\site-packages\\sklearn\\cluster\\_kmeans.py:1412: FutureWarning: The default value of `n_init` will change from 10 to 'auto' in 1.4. Set the value of `n_init` explicitly to suppress the warning\n",
      "  super()._check_params_vs_input(X, default_n_init=10)\n",
      "C:\\Users\\zakug\\anaconda3\\Lib\\site-packages\\sklearn\\cluster\\_kmeans.py:1436: UserWarning: KMeans is known to have a memory leak on Windows with MKL, when there are less chunks than available threads. You can avoid it by setting the environment variable OMP_NUM_THREADS=1.\n",
      "  warnings.warn(\n"
     ]
    },
    {
     "data": {
      "image/png": "[encoded data removed]",
      "text/plain": [
       "<Figure size 640x480 with 1 Axes>"
      ]
     },
     "metadata": {},
     "output_type": "display_data"
    }
   ],
   "source": [
    "### リスト2 ###\n",
    "\n",
    "# k-means クラスタリング #\n",
    "\n",
    "# matplotlibの日本語化対応をするために、次の pip install を行なう必要がある。\n",
    "# pip install japanize-matplotlib\n",
    "\n",
    "from matplotlib.font_manager import FontProperties\n",
    "\n",
    "from sklearn.cluster import KMeans\n",
    "import matplotlib.pyplot as plt\n",
    "\n",
    "\n",
    "# 文書データ[大阪, 観光]（各単語の頻度を仮定）\n",
    "X = [[5, 3], [2, 6], [5, 2], [4, 5], [3, 5], [6, 2], [1, 5], [6, 8], [5, 2], [8, 3]]\n",
    "\n",
    "\n",
    "# クラスタリングモデルの構築\n",
    "kmeans = KMeans(n_clusters=3) # クラスタ数を設定\n",
    "kmeans.fit(X)\n",
    "\n",
    "# クラスタリング結果の可視化\n",
    "plt.scatter(*zip(*X), c=kmeans.labels_, cmap='viridis')\n",
    "plt.xlabel('大阪', fontname ='MS Gothic')\n",
    "plt.ylabel('観光', fontname ='MS Gothic')\n",
    "\n",
    "plt.title('文書のクラスタリング', fontname ='MS Gothic')\n",
    "plt.show()"
   ]
  },
  {
   "cell_type": "markdown",
   "id": "1b162cce",
   "metadata": {},
   "source": [
    "### 教師あり学習（Logistic Regression, ロジスティック回帰モデル）"
   ]
  },
  {
   "cell_type": "code",
   "execution_count": 3,
   "id": "df411478",
   "metadata": {},
   "outputs": [
    {
     "name": "stdout",
     "output_type": "stream",
     "text": [
      "Accuracy: 0.5\n"
     ]
    }
   ],
   "source": [
    "### リスト3 ###\n",
    "\n",
    "### Logistic Regression （ロジスティック回帰）を用いた分類 ###\n",
    "\n",
    "from sklearn.model_selection import train_test_split\n",
    "from sklearn.linear_model import LogisticRegression\n",
    "from sklearn.metrics import accuracy_score\n",
    "\n",
    "# 文書データ[大阪, 京都, 観光]（各単語の頻度を仮定）\n",
    "X = [[4, 0, 2], [0, 3, 4], [0, 5, 3], [1, 4, 2], [5, 1, 3], [2, 3, 5], [2, 1, 0], [1, 3, 0], [1, 0, 3], [2, 7, 0]]\n",
    "\n",
    "# 各文書データのクラス（ラベル） => 大阪の観光の文書: 0, 京都の観光の文書: 1, そうでない文書: 2\n",
    "y = [0, 1, 1, 1, 0, 1, 2, 2, 0, 2]\n",
    "\n",
    "\n",
    "# データの分割\n",
    "# test_size を変えると、Accyracy の値が変動する\n",
    "X_train, X_test, y_train, y_test = train_test_split(X, y, test_size=0.2, random_state=42) \n",
    "\n",
    "# モデルの構築と学習\n",
    "model = LogisticRegression()\n",
    "model.fit(X_train, y_train)\n",
    "\n",
    "# モデルの評価\n",
    "y_pred = model.predict(X_test)\n",
    "accuracy = accuracy_score(y_test, y_pred)\n",
    "print(\"Accuracy:\", accuracy)"
   ]
  }
 ],
 "metadata": {
  "kernelspec": {
   "display_name": "Python 3 (ipykernel)",
   "language": "python",
   "name": "python3"
  },
  "language_info": {
   "codemirror_mode": {
    "name": "ipython",
    "version": 3
   },
   "file_extension": ".py",
   "mimetype": "text/x-python",
   "name": "python",
   "nbconvert_exporter": "python",
   "pygments_lexer": "ipython3",
   "version": "3.11.5"
  }
 },
 "nbformat": 4,
 "nbformat_minor": 5
}
