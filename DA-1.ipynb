{
 "cells": [
  {
   "cell_type": "markdown",
   "id": "e072effb",
   "metadata": {},
   "source": [
    "### 1. 簡単な文字列処理 ###"
   ]
  },
  {
   "cell_type": "code",
   "execution_count": 1,
   "id": "b1e67ccf",
   "metadata": {},
   "outputs": [
    {
     "name": "stdout",
     "output_type": "stream",
     "text": [
      "*** 文字列をそのまま表示 ***\n",
      "今日は良い天気です\n",
      "*** 文字列を逆順で表示 ***\n",
      "すで気天い良は日今\n"
     ]
    }
   ],
   "source": [
    "### リスト1 ###\n",
    "\n",
    "# 文字の並びを逆にして表示する\n",
    "string = '今日は良い天気です'\n",
    "\n",
    "# 指定した文字列をそのまま表示\n",
    "print('*** 文字列をそのまま表示 ***')\n",
    "print(string)\n",
    "\n",
    "# 指定した文字列を逆順にして表示する\n",
    "print('*** 文字列を逆順で表示 ***')\n",
    "print(string[::-1])"
   ]
  },
  {
   "cell_type": "markdown",
   "id": "fa3823d4",
   "metadata": {},
   "source": [
    "### 2. 文字コード ###"
   ]
  },
  {
   "cell_type": "code",
   "execution_count": 2,
   "id": "d2aeef1f",
   "metadata": {},
   "outputs": [
    {
     "name": "stdout",
     "output_type": "stream",
     "text": [
      "True\n",
      "False\n"
     ]
    }
   ],
   "source": [
    "### リスト2 ###\n",
    "\n",
    "# in 演算子: 条件に合致するとTrue, そうでない場合はFalse を返す\n",
    "query = '大阪'\n",
    "s1 = '万博公園は大阪にある'\n",
    "s2 = 'スカイツリーは東京にある'\n",
    "print(query in s1)\n",
    "print(query in s2)"
   ]
  },
  {
   "cell_type": "code",
   "execution_count": 3,
   "id": "76b02c25",
   "metadata": {},
   "outputs": [
    {
     "name": "stdout",
     "output_type": "stream",
     "text": [
      "[97]\n",
      "[97, 98, 99]\n",
      "[97, 112, 112, 108, 101]\n",
      "[111, 114, 97, 110, 103, 101]\n"
     ]
    }
   ],
   "source": [
    "### リスト3 ###\n",
    "\n",
    "# encode メソッド: 文字列を対応する文字コードの列（バイト列）に変換する。\n",
    "# encode の引数を省略すると、UTF-8でエンコードされる\n",
    "\n",
    "# 文字コードの例（英語）\n",
    "print(list('a'.encode()))\n",
    "print(list('abc'.encode()))\n",
    "\n",
    "print(list('apple'.encode()))\n",
    "print(list('orange'.encode()))"
   ]
  },
  {
   "cell_type": "code",
   "execution_count": 4,
   "id": "2d17d67e",
   "metadata": {},
   "outputs": [
    {
     "name": "stdout",
     "output_type": "stream",
     "text": [
      "[194, 231]\n",
      "[145, 229]\n",
      "[229, 164, 167]\n",
      "[194, 231, 186, 229]\n",
      "[145, 229, 141, 227]\n",
      "[229, 164, 167, 233, 152, 170]\n"
     ]
    }
   ],
   "source": [
    "### リスト4 ###\n",
    "\n",
    "# 文字コードの例（日本語）\n",
    "# UTF-8では、漢字などの1文字を3バイトで表現する\n",
    "print(list('大'.encode('EUC-JP')))\n",
    "print(list('大'.encode('SHIFT_JIS')))\n",
    "print(list('大'.encode('UTF-8')))\n",
    "\n",
    "print(list('大阪'.encode('EUC-JP')))\n",
    "print(list('大阪'.encode('SHIFT_JIS')))\n",
    "print(list('大阪'.encode('UTF-8')))"
   ]
  },
  {
   "cell_type": "markdown",
   "id": "8e8f2ef9",
   "metadata": {},
   "source": [
    "### 3. 文字Nグラム ###"
   ]
  },
  {
   "cell_type": "code",
   "execution_count": 5,
   "id": "35500e60",
   "metadata": {},
   "outputs": [
    {
     "name": "stdout",
     "output_type": "stream",
     "text": [
      "['大', '阪', '成', '蹊']\n",
      "['大阪', '阪成', '成蹊']\n",
      "['大阪成', '阪成蹊']\n"
     ]
    }
   ],
   "source": [
    "### リスト5 ###\n",
    "\n",
    "# Nグラム：文字や単語を隣り合うN個ごとにまとめたもの\n",
    "# 文字Nグラム：長さNの部分文字列の集合のこと\n",
    "# 単語Nグラム：N個からなる単語の集合のこと\n",
    "# N=1: ユニグラム (uni-gram)\n",
    "# N=2: バイグラム (bi-gram)\n",
    "# N=3: トライグラム (tri-gram)\n",
    "\n",
    "def get_ngram(string, N=1):\n",
    "    return [string[i:i+N] for i in range(len(string) - N + 1)]\n",
    "\n",
    "string = '大阪成蹊'\n",
    "print(get_ngram(string, N=1))\n",
    "print(get_ngram(string, N=2))\n",
    "print(get_ngram(string, N=3))"
   ]
  },
  {
   "cell_type": "markdown",
   "id": "965ca941",
   "metadata": {},
   "source": [
    "### 4. 形態素解析 ###"
   ]
  },
  {
   "cell_type": "code",
   "execution_count": 6,
   "id": "b9edf807",
   "metadata": {},
   "outputs": [
    {
     "name": "stdout",
     "output_type": "stream",
     "text": [
      "Requirement already satisfied: janome in c:\\users\\zakug\\anaconda3\\lib\\site-packages (0.5.0)\n",
      "Note: you may need to restart the kernel to use updated packages.\n"
     ]
    }
   ],
   "source": [
    "pip install janome"
   ]
  },
  {
   "cell_type": "code",
   "execution_count": 7,
   "id": "eec5ca5a",
   "metadata": {},
   "outputs": [
    {
     "name": "stdout",
     "output_type": "stream",
     "text": [
      "すもも\t名詞,一般,*,*\n",
      "も\t助詞,係助詞,*,*\n",
      "もも\t名詞,一般,*,*\n",
      "も\t助詞,係助詞,*,*\n",
      "もも\t名詞,一般,*,*\n",
      "の\t助詞,連体化,*,*\n",
      "うち\t名詞,非自立,副詞可能,*\n"
     ]
    }
   ],
   "source": [
    "### リスト6 ###\n",
    "\n",
    "# 形態素解析の例\n",
    "\n",
    "from janome.tokenizer import Tokenizer\n",
    "\n",
    "tokenizer = Tokenizer()\n",
    "string = 'すもももももももものうち'\n",
    "for t in tokenizer.tokenize(string):\n",
    "    print('{}\\t{}'.format(t.surface, t.part_of_speech))"
   ]
  }
 ],
 "metadata": {
  "kernelspec": {
   "display_name": "Python 3 (ipykernel)",
   "language": "python",
   "name": "python3"
  },
  "language_info": {
   "codemirror_mode": {
    "name": "ipython",
    "version": 3
   },
   "file_extension": ".py",
   "mimetype": "text/x-python",
   "name": "python",
   "nbconvert_exporter": "python",
   "pygments_lexer": "ipython3",
   "version": "3.11.5"
  }
 },
 "nbformat": 4,
 "nbformat_minor": 5
}
