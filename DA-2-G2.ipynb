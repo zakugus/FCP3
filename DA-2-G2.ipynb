{
 "cells": [
  {
   "cell_type": "markdown",
   "id": "1aed6704",
   "metadata": {},
   "source": [
    "## 演習IIのレポートの書き方の例"
   ]
  },
  {
   "cell_type": "markdown",
   "id": "f84fd86b",
   "metadata": {},
   "source": [
    "### 課題1. \n",
    "#### 検索意図(1) おいしいラーメンが食べたい　=> q1. ラーメン　おいしいお店\n",
    "#### 検索意図(2) 大阪の公園を知りたい　=> q2. 大阪　公園\n",
    "#### ......\n",
    "##### （このように、q1～q5まで設定する）"
   ]
  },
  {
   "cell_type": "markdown",
   "id": "19a7eb69",
   "metadata": {},
   "source": [
    "### 課題2.\n",
    "#### Google: \n",
    "##### (q1) Precision@10: ???, MRR: ???\n",
    "##### (q2) Precision@10: ???, MRR: ???\n",
    "##### ......\n",
    "\n",
    "#### Microsoft Bing:\n",
    "##### (q1) Precision@10: ???, MRR: ???\n",
    "##### (q2) Precision@10: ???, MRR: ???\n",
    "##### ......\n"
   ]
  },
  {
   "cell_type": "markdown",
   "id": "7e916b93",
   "metadata": {},
   "source": [
    "### 課題3.\n",
    "#### Google: \n",
    "##### Precision@10の平均値: ???, MRRの平均値: ???\n",
    "\n",
    "#### Microsoft BIng:\n",
    "##### Precision@10の平均値: ???, MRRの平均値: ???\n"
   ]
  }
 ],
 "metadata": {
  "kernelspec": {
   "display_name": "Python 3 (ipykernel)",
   "language": "python",
   "name": "python3"
  },
  "language_info": {
   "codemirror_mode": {
    "name": "ipython",
    "version": 3
   },
   "file_extension": ".py",
   "mimetype": "text/x-python",
   "name": "python",
   "nbconvert_exporter": "python",
   "pygments_lexer": "ipython3",
   "version": "3.11.5"
  }
 },
 "nbformat": 4,
 "nbformat_minor": 5
}
