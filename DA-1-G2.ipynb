{
 "cells": [
  {
   "cell_type": "markdown",
   "id": "e072effb",
   "metadata": {},
   "source": [
    "### 1. 簡単な文字列処理 ###"
   ]
  },
  {
   "cell_type": "code",
   "execution_count": 1,
   "id": "b1e67ccf",
   "metadata": {},
   "outputs": [
    {
     "name": "stdout",
     "output_type": "stream",
     "text": [
      "*** 文字列をそのまま表示 ***\n",
      "今日は良い天気です\n",
      "*** 文字列を逆順で表示 ***\n",
      "すで気天い良は日今\n"
     ]
    }
   ],
   "source": [
    "### リスト1 ###\n",
    "\n",
    "# 文字の並びを逆にして表示する\n",
    "string = '今日は良い天気です'\n",
    "\n",
    "# 指定した文字列をそのまま表示\n",
    "print('*** 文字列をそのまま表示 ***')\n",
    "print(string)\n",
    "\n",
    "# 指定した文字列を逆順にして表示する\n",
    "print('*** 文字列を逆順で表示 ***')\n",
    "print(string[::-1])"
   ]
  },
  {
   "cell_type": "markdown",
   "id": "fa3823d4",
   "metadata": {},
   "source": [
    "### 2. 文字コード ###"
   ]
  },
  {
   "cell_type": "code",
   "execution_count": 2,
   "id": "d2aeef1f",
   "metadata": {},
   "outputs": [
    {
     "name": "stdout",
     "output_type": "stream",
     "text": [
      "True\n",
      "False\n"
     ]
    }
   ],
   "source": [
    "### リスト2 ###\n",
    "\n",
    "# in 演算子: 条件に合致するとTrue, そうでない場合はFalse を返す\n",
    "query = '大阪'\n",
    "s1 = '万博公園は大阪にある'\n",
    "s2 = 'スカイツリーは東京にある'\n",
    "print(query in s1)\n",
    "print(query in s2)"
   ]
  },
  {
   "cell_type": "code",
   "execution_count": 3,
   "id": "76b02c25",
   "metadata": {},
   "outputs": [
    {
     "name": "stdout",
     "output_type": "stream",
     "text": [
      "[97]\n",
      "[97, 98, 99]\n",
      "[97, 112, 112, 108, 101]\n",
      "[111, 114, 97, 110, 103, 101]\n"
     ]
    }
   ],
   "source": [
    "### リスト3 ###\n",
    "\n",
    "# encode メソッド: 文字列を対応する文字コードの列（バイト列）に変換する。\n",
    "# encode の引数を省略すると、UTF-8でエンコードされる\n",
    "\n",
    "# 文字コードの例（英語）\n",
    "print(list('a'.encode()))\n",
    "print(list('abc'.encode()))\n",
    "\n",
    "print(list('apple'.encode()))\n",
    "print(list('orange'.encode()))"
   ]
  },
  {
   "cell_type": "code",
   "execution_count": 4,
   "id": "2d17d67e",
   "metadata": {},
   "outputs": [
    {
     "name": "stdout",
     "output_type": "stream",
     "text": [
      "[194, 231]\n",
      "[145, 229]\n",
      "[229, 164, 167]\n",
      "[194, 231, 186, 229]\n",
      "[145, 229, 141, 227]\n",
      "[229, 164, 167, 233, 152, 170]\n"
     ]
    }
   ],
   "source": [
    "### リスト4 ###\n",
    "\n",
    "# 文字コードの例（日本語）\n",
    "# UTF-8では、漢字などの1文字を3バイトで表現する\n",
    "print(list('大'.encode('EUC-JP')))\n",
    "print(list('大'.encode('SHIFT_JIS')))\n",
    "print(list('大'.encode('UTF-8')))\n",
    "\n",
    "print(list('大阪'.encode('EUC-JP')))\n",
    "print(list('大阪'.encode('SHIFT_JIS')))\n",
    "print(list('大阪'.encode('UTF-8')))"
   ]
  },
  {
   "cell_type": "markdown",
   "id": "8e8f2ef9",
   "metadata": {},
   "source": [
    "### 3. 文字Nグラム ###"
   ]
  },
  {
   "cell_type": "code",
   "execution_count": 15,
   "id": "35500e60",
   "metadata": {},
   "outputs": [
    {
     "name": "stdout",
     "output_type": "stream",
     "text": [
      "['大', '阪', '市', '東', '淀', '川', '区', '相', '川']\n",
      "['大阪', '阪市', '市東', '東淀', '淀川', '川区', '区相', '相川']\n",
      "['大阪市', '阪市東', '市東淀', '東淀川', '淀川区', '川区相', '区相川']\n"
     ]
    }
   ],
   "source": [
    "### リスト5 ###\n",
    "\n",
    "# Nグラム：文字や単語を隣り合うN個ごとにまとめたもの\n",
    "# 文字Nグラム：長さNの部分文字列の集合のこと\n",
    "# 単語Nグラム：N個からなる単語の集合のこと\n",
    "# N=1: ユニグラム (uni-gram)\n",
    "# N=2: バイグラム (bi-gram)\n",
    "# N=3: トライグラム (tri-gram)\n",
    "\n",
    "def get_ngram(string, N=1):\n",
    "    return [string[i:i+N] for i in range(len(string) - N + 1)]\n",
    "\n",
    "#string = '大阪成蹊'\n",
    "string = '大阪市東淀川区相川'\n",
    "print(get_ngram(string, N=1))\n",
    "print(get_ngram(string, N=2))\n",
    "print(get_ngram(string, N=3))"
   ]
  },
  {
   "cell_type": "markdown",
   "id": "965ca941",
   "metadata": {},
   "source": [
    "### 4. 形態素解析 ###"
   ]
  },
  {
   "cell_type": "code",
   "execution_count": 6,
   "id": "7af101e2",
   "metadata": {},
   "outputs": [
    {
     "name": "stdout",
     "output_type": "stream",
     "text": [
      "Requirement already satisfied: janome in c:\\users\\zakug\\anaconda3\\lib\\site-packages (0.5.0)\n",
      "Note: you may need to restart the kernel to use updated packages.\n"
     ]
    }
   ],
   "source": [
    "pip install janome"
   ]
  },
  {
   "cell_type": "code",
   "execution_count": 7,
   "id": "4c811754",
   "metadata": {},
   "outputs": [
    {
     "name": "stdout",
     "output_type": "stream",
     "text": [
      "すもも\t名詞,一般,*,*\n",
      "も\t助詞,係助詞,*,*\n",
      "もも\t名詞,一般,*,*\n",
      "も\t助詞,係助詞,*,*\n",
      "もも\t名詞,一般,*,*\n",
      "の\t助詞,連体化,*,*\n",
      "うち\t名詞,非自立,副詞可能,*\n"
     ]
    }
   ],
   "source": [
    "### リスト6 ###\n",
    "\n",
    "# 形態素解析の例\n",
    "\n",
    "from janome.tokenizer import Tokenizer\n",
    "\n",
    "tokenizer = Tokenizer()\n",
    "string = 'すもももももももものうち'\n",
    "for t in tokenizer.tokenize(string):\n",
    "    print('{}\\t{}'.format(t.surface, t.part_of_speech))"
   ]
  },
  {
   "cell_type": "code",
   "execution_count": 8,
   "id": "c7aeb36d",
   "metadata": {},
   "outputs": [
    {
     "name": "stdout",
     "output_type": "stream",
     "text": [
      "すもも\t名詞\n",
      "も\t助詞\n",
      "もも\t名詞\n",
      "も\t助詞\n",
      "もも\t名詞\n",
      "の\t助詞\n",
      "うち\t名詞\n"
     ]
    }
   ],
   "source": [
    "### リスト7 ###\n",
    "\n",
    "# 形態素解析の復習1（補足：単語と品詞名のみを得る（品詞細分類を除く）表示方法）\n",
    "# part of speech: 品詞\n",
    "\n",
    "from janome.tokenizer import Tokenizer\n",
    "\n",
    "tokenizer = Tokenizer()\n",
    "string = 'すもももももももものうち'\n",
    "for t in tokenizer.tokenize(string):\n",
    "    #print('{}\\t{}'.format(t.surface, t.part_of_speech))\n",
    "    # 単語と品詞名のみを得る場合、次のように記述する\n",
    "      print('{}\\t{}'.format(t.surface, t.part_of_speech.split(',')[0]))  "
   ]
  },
  {
   "cell_type": "code",
   "execution_count": 9,
   "id": "4fe551b1",
   "metadata": {},
   "outputs": [
    {
     "name": "stdout",
     "output_type": "stream",
     "text": [
      "四天王寺\t名詞,固有名詞,地域,一般\n",
      "の\t助詞,連体化,*,*\n",
      "境内\t名詞,一般,*,*\n",
      "は\t助詞,係助詞,*,*\n",
      "広大\t名詞,形容動詞語幹,*,*\n",
      "で\t助動詞,*,*,*\n",
      "、\t記号,読点,*,*\n",
      "その\t連体詞,*,*,*\n",
      "日本\t名詞,固有名詞,地域,国\n",
      "庭園\t名詞,一般,*,*\n",
      "は\t助詞,係助詞,*,*\n",
      "都心\t名詞,一般,*,*\n",
      "に\t助詞,格助詞,一般,*\n",
      "ある\t動詞,自立,*,*\n",
      "と\t助詞,格助詞,引用,*\n",
      "は\t助詞,係助詞,*,*\n",
      "思え\t動詞,自立,*,*\n",
      "ない\t助動詞,*,*,*\n",
      "ほど\t助詞,副助詞,*,*\n",
      "の\t助詞,連体化,*,*\n",
      "静寂\t名詞,一般,*,*\n",
      "に\t助詞,格助詞,一般,*\n",
      "包ま\t動詞,自立,*,*\n",
      "れ\t動詞,接尾,*,*\n",
      "て\t助詞,接続助詞,*,*\n",
      "いる\t動詞,非自立,*,*\n",
      "。\t記号,句点,*,*\n"
     ]
    }
   ],
   "source": [
    "### リスト8 ###\n",
    "\n",
    "# 形態素解析の復習2: やや長めの文の形態素解析\n",
    "\n",
    "from janome.tokenizer import Tokenizer\n",
    "\n",
    "tokenizer = Tokenizer()\n",
    "string = '四天王寺の境内は広大で、その日本庭園は都心にあるとは思えないほどの静寂に包まれている。'\n",
    "for t in tokenizer.tokenize(string):\n",
    "    print('{}\\t{}'.format(t.surface, t.part_of_speech))"
   ]
  },
  {
   "cell_type": "markdown",
   "id": "106d747f",
   "metadata": {},
   "source": [
    "### 5. 形態素解析ができない場合の対処法：ユーザ辞書の構築"
   ]
  },
  {
   "cell_type": "code",
   "execution_count": 10,
   "id": "7e9ff27a",
   "metadata": {},
   "outputs": [
    {
     "name": "stdout",
     "output_type": "stream",
     "text": [
      "ひこ\t動詞,自立,*,*\n",
      "にゃ\t助詞,特殊,*,*\n",
      "ん\t名詞,非自立,一般,*\n",
      "は\t助詞,係助詞,*,*\n",
      "滋賀\t名詞,固有名詞,地域,一般\n",
      "県\t名詞,接尾,地域,*\n",
      "彦根\t名詞,固有名詞,地域,一般\n",
      "市\t名詞,接尾,地域,*\n",
      "の\t助詞,連体化,*,*\n",
      "キャラクター\t名詞,一般,*,*\n",
      "だ\t助動詞,*,*,*\n"
     ]
    }
   ],
   "source": [
    "### リスト9 ###\n",
    "\n",
    "# 形態素解析が正しくできない例（「ひこにゃん」が正しく解析されない）\n",
    "\n",
    "from janome.tokenizer import Tokenizer\n",
    "\n",
    "tokenizer = Tokenizer()\n",
    "string = 'ひこにゃんは滋賀県彦根市のキャラクターだ'\n",
    "for t in tokenizer.tokenize(string):\n",
    "    print('{}\\t{}'.format(t.surface, t.part_of_speech))"
   ]
  },
  {
   "cell_type": "markdown",
   "id": "f417289c",
   "metadata": {},
   "source": [
    "#### 上記の場合、「ひこにゃん」が正しく形態素解析されていないことがわかる。このような場合には、ユーザ辞書を構築する。例えば、dataフォルダを作成し、次のように記入したcsvファイル（userdic.csv）を用意する。"
   ]
  },
  {
   "cell_type": "markdown",
   "id": "aaf94b3b",
   "metadata": {},
   "source": [
    "ひこにゃん, 名詞, ヒコニャン"
   ]
  },
  {
   "cell_type": "code",
   "execution_count": 11,
   "id": "68dd0569",
   "metadata": {},
   "outputs": [
    {
     "name": "stdout",
     "output_type": "stream",
     "text": [
      "ひこにゃん\t 名詞,*,*,*\n",
      "は\t助詞,係助詞,*,*\n",
      "滋賀\t名詞,固有名詞,地域,一般\n",
      "県\t名詞,接尾,地域,*\n",
      "彦根\t名詞,固有名詞,地域,一般\n",
      "市\t名詞,接尾,地域,*\n",
      "の\t助詞,連体化,*,*\n",
      "キャラクター\t名詞,一般,*,*\n",
      "だ\t助動詞,*,*,*\n"
     ]
    }
   ],
   "source": [
    "### リスト10 ###\n",
    "\n",
    "# ユーザ辞書を利用した形態素解析（「ひこにゃん」が正しく解析されるようになる）\n",
    "\n",
    "string = 'ひこにゃんは滋賀県彦根市のキャラクターだ'\n",
    "tokenizer = Tokenizer('./data/userdic.csv', udic_type='simpledic')\n",
    "for t in tokenizer.tokenize(string):\n",
    "    print('{}\\t{}'.format(t.surface, t.part_of_speech))"
   ]
  }
 ],
 "metadata": {
  "kernelspec": {
   "display_name": "Python 3 (ipykernel)",
   "language": "python",
   "name": "python3"
  },
  "language_info": {
   "codemirror_mode": {
    "name": "ipython",
    "version": 3
   },
   "file_extension": ".py",
   "mimetype": "text/x-python",
   "name": "python",
   "nbconvert_exporter": "python",
   "pygments_lexer": "ipython3",
   "version": "3.11.5"
  }
 },
 "nbformat": 4,
 "nbformat_minor": 5
}
