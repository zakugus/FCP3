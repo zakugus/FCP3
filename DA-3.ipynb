{
 "cells": [
  {
   "cell_type": "markdown",
   "id": "64c3d71a",
   "metadata": {},
   "source": [
    "### ベクトル空間モデルにおけるTF-IDF法とcos類似度"
   ]
  },
  {
   "cell_type": "code",
   "execution_count": 1,
   "id": "d43077e2",
   "metadata": {},
   "outputs": [
    {
     "name": "stdout",
     "output_type": "stream",
     "text": [
      "大阪 : 2.203972804325936\n",
      "京都 : 2.4462871026284194\n",
      "奈良 : 1.6931471805599454\n",
      "交通 : 2.4462871026284194\n",
      "観光 : 1.3566749439387324\n",
      "経済 : 1.916290731874155\n",
      "宿泊 : 1.2231435513142097\n",
      "歴史 : 3.302585092994046\n",
      "公園 : 1.916290731874155\n",
      "みやげ : 2.203972804325936\n"
     ]
    }
   ],
   "source": [
    "### リスト1 ###\n",
    "\n",
    "# TF-IDFの計算 \n",
    "\n",
    "import math\n",
    "\n",
    "tf_dic = {'大阪':1, '京都':2, '奈良':1, '交通':2, '観光':1, '経済':1, '宿泊':1, '歴史':1, '公園':1, 'みやげ':1}\n",
    "df_dic = {'大阪':3, '京都':8, '奈良':5, '交通':8, '観光':7, '経済':4, '宿泊':8, '歴史':1, '公園':4, 'みやげ':3}\n",
    "\n",
    "tf_idf_dic = {}\n",
    "N = 10\n",
    "\n",
    "def compute_tf_idf(term): \n",
    "    return tf_dic[term] * compute_idf(term)\n",
    "\n",
    "def compute_idf(term):\n",
    "    return math.log(N / df_dic[term]) + 1\n",
    "\n",
    "for term, value in list(tf_dic.items()):\n",
    "    tf_idf_dic[term] = compute_tf_idf(term)\n",
    "    print(term, ':', tf_idf_dic[term])"
   ]
  },
  {
   "cell_type": "code",
   "execution_count": 3,
   "id": "befee360",
   "metadata": {},
   "outputs": [
    {
     "name": "stdout",
     "output_type": "stream",
     "text": [
      "The cosine similarity: 0.35355339059327373\n"
     ]
    }
   ],
   "source": [
    "### リスト2 ###\n",
    "\n",
    "# cos類似度 (cosine similarity) の計算 \n",
    "\n",
    "from collections import Counter\n",
    "import math\n",
    "\n",
    "def cosine_similarity(query, document):\n",
    "    # クエリとドキュメントをCounterに変換して、操作を容易にする\n",
    "    query_counter = Counter(query)\n",
    "    document_counter = Counter(document)\n",
    "    \n",
    "    # 内積を計算する\n",
    "    dot_product = sum(query_counter[word] * document_counter.get(word, 0) for word in query_counter)\n",
    "    \n",
    "    # 両ベクトルのノルム（大きさ）を計算する\n",
    "    query_norm = math.sqrt(sum(value ** 2 for value in query_counter.values()))\n",
    "    document_norm = math.sqrt(sum(value ** 2 for value in document_counter.values()))\n",
    "    \n",
    "    # コサイン類似度を計算する\n",
    "    if query_norm == 0 or document_norm == 0:\n",
    "        # ゼロ除算を避ける\n",
    "        return 0\n",
    "    else:\n",
    "        return dot_product / (query_norm * document_norm)\n",
    "\n",
    "# クエリベクトルと文書ベクトルを定義する\n",
    "query_vector = {'大阪': 1, '観光': 1}\n",
    "document_vector = {'大阪':1, '京都':2, '奈良':1, '交通':2, '観光':1, '経済':1, '宿泊':1, '歴史':1, '公園':1, 'みやげ':1}\n",
    "\n",
    "# コサイン類似度を計算する\n",
    "cos_sim = cosine_similarity(query_vector, document_vector)\n",
    "print(\"The cosine similarity:\", cos_sim)"
   ]
  }
 ],
 "metadata": {
  "kernelspec": {
   "display_name": "Python 3 (ipykernel)",
   "language": "python",
   "name": "python3"
  },
  "language_info": {
   "codemirror_mode": {
    "name": "ipython",
    "version": 3
   },
   "file_extension": ".py",
   "mimetype": "text/x-python",
   "name": "python",
   "nbconvert_exporter": "python",
   "pygments_lexer": "ipython3",
   "version": "3.11.5"
  }
 },
 "nbformat": 4,
 "nbformat_minor": 5
}
