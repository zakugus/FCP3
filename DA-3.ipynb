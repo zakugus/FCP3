{
 "cells": [
  {
   "cell_type": "markdown",
   "id": "fe4aaec7",
   "metadata": {},
   "source": [
    "### ベクトル空間モデルにおけるTF-IDF法とcos類似度"
   ]
  },
  {
   "cell_type": "code",
   "execution_count": 1,
   "id": "d6574a91",
   "metadata": {},
   "outputs": [
    {
     "name": "stdout",
     "output_type": "stream",
     "text": [
      "大阪 : 0.0\n",
      "京都 : 0.6694306539426294\n",
      "奈良 : 0.6931471805599453\n",
      "交通 : 0.44628710262841953\n",
      "観光 : 0.3566749439387324\n",
      "経済 : 0.0\n",
      "宿泊 : 0.22314355131420976\n",
      "歴史 : 0.5108256237659907\n",
      "公園 : 0.9162907318741551\n",
      "みやげ : 1.2039728043259361\n"
     ]
    }
   ],
   "source": [
    "### リスト1 ###\n",
    "\n",
    "# TF-IDFの計算\n",
    "# TF: Term Frequency (単語の出現頻度)\n",
    "# IDF: Inverse Document Frequency (逆文書頻度)  \n",
    "\n",
    "import math\n",
    "\n",
    "# 全文書数を10と設定\n",
    "N = 10 \n",
    "\n",
    "# 文書aにおける各単語の頻度（term frequency, TF）\n",
    "doc_a = {'大阪':0, '京都':3, '奈良':1, '交通':2, '観光':1, '経済':0, '宿泊':1, '歴史':1, '公園':1, 'みやげ':1}\n",
    "\n",
    "# 全文書集合において、各単語が出現する文書数 (document frequency, DF)\n",
    "df = {'大阪':3, '京都':8, '奈良':5, '交通':8, '観光':7, '経済':4, '宿泊':8, '歴史':6, '公園':4, 'みやげ':3}\n",
    "\n",
    "# TF-IDFの値を初期化\n",
    "tf_idf = {}\n",
    "\n",
    "# TF-IDFの計算\n",
    "def compute_tf_idf(term): \n",
    "    return doc_a[term] * compute_idf(term)\n",
    "\n",
    "# IDFの計算\n",
    "def compute_idf(term):\n",
    "    return math.log(N / df[term])\n",
    "\n",
    "# 各単語のTF-IDF を計算し、表示\n",
    "for term, value in list(doc_a.items()):\n",
    "    tf_idf[term] = compute_tf_idf(term)\n",
    "    print(term, ':', tf_idf[term])"
   ]
  },
  {
   "cell_type": "code",
   "execution_count": 2,
   "id": "46df4cd0",
   "metadata": {},
   "outputs": [
    {
     "name": "stdout",
     "output_type": "stream",
     "text": [
      "(1) Cosine similarity: 0.16222142113076252\n",
      "(2) Cosine similarity: 0.6488856845230501\n"
     ]
    }
   ],
   "source": [
    "### リスト2 ###\n",
    "\n",
    "# cos類似度 (cosine similarity) の計算 \n",
    "\n",
    "from collections import Counter\n",
    "import math\n",
    "\n",
    "def cosine_similarity(query, document):\n",
    "    # クエリとドキュメントをCounterに変換して、操作を容易にする\n",
    "    query_counter = Counter(query)\n",
    "    document_counter = Counter(document)\n",
    "    \n",
    "    # 内積を計算する\n",
    "    dot_product = sum(query_counter[word] * document_counter.get(word, 0) for word in query_counter)\n",
    "    \n",
    "    # 両ベクトルの距離（ノルム）を計算する\n",
    "    query_norm = math.sqrt(sum(value ** 2 for value in query_counter.values()))\n",
    "    document_norm = math.sqrt(sum(value ** 2 for value in document_counter.values()))\n",
    "    \n",
    "    # cos類似度を計算する\n",
    "    if query_norm == 0 or document_norm == 0:\n",
    "        # ゼロで除算することを避ける\n",
    "        return 0\n",
    "    else:\n",
    "        return dot_product / (query_norm * document_norm)\n",
    "\n",
    "# クエリベクトルと文書ベクトルを定義する---(1)\n",
    "query_vector = {'大阪': 1, '観光': 1}\n",
    "document_vector = {'大阪':0, '京都':3, '奈良':1, '交通':2, '観光':1, '経済':0, '宿泊':1, '歴史':1, '公園':1, 'みやげ':1}\n",
    "\n",
    "# cos類似度を計算する---(1)\n",
    "cos_sim = cosine_similarity(query_vector, document_vector)\n",
    "print(\"(1) Cosine similarity:\", cos_sim)\n",
    "\n",
    "\n",
    "# クエリベクトルと文書ベクトルを定義する---(2)\n",
    "query_vector = {'京都': 1, '宿泊': 1}\n",
    "document_vector = {'大阪':0, '京都':3, '奈良':1, '交通':2, '観光':1, '経済':0, '宿泊':1, '歴史':1, '公園':1, 'みやげ':1}\n",
    "\n",
    "# cos類似度を計算する---(2)\n",
    "cos_sim = cosine_similarity(query_vector, document_vector)\n",
    "print(\"(2) Cosine similarity:\", cos_sim)"
   ]
  }
 ],
 "metadata": {
  "kernelspec": {
   "display_name": "Python 3 (ipykernel)",
   "language": "python",
   "name": "python3"
  },
  "language_info": {
   "codemirror_mode": {
    "name": "ipython",
    "version": 3
   },
   "file_extension": ".py",
   "mimetype": "text/x-python",
   "name": "python",
   "nbconvert_exporter": "python",
   "pygments_lexer": "ipython3",
   "version": "3.11.5"
  }
 },
 "nbformat": 4,
 "nbformat_minor": 5
}
