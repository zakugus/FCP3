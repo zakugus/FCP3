{
 "cells": [
  {
   "cell_type": "markdown",
   "id": "23cf1aa4",
   "metadata": {},
   "source": [
    "### 1．形態素解析の復習"
   ]
  },
  {
   "cell_type": "code",
   "execution_count": 1,
   "id": "26a10bb5",
   "metadata": {},
   "outputs": [
    {
     "name": "stdout",
     "output_type": "stream",
     "text": [
      "すもも\t名詞,一般,*,*\n",
      "も\t助詞,係助詞,*,*\n",
      "もも\t名詞,一般,*,*\n",
      "も\t助詞,係助詞,*,*\n",
      "もも\t名詞,一般,*,*\n",
      "の\t助詞,連体化,*,*\n",
      "うち\t名詞,非自立,副詞可能,*\n"
     ]
    }
   ],
   "source": [
    "### リスト1 ###\n",
    "\n",
    "# 形態素解析の復習1\n",
    "\n",
    "from janome.tokenizer import Tokenizer\n",
    "\n",
    "tokenizer = Tokenizer()\n",
    "string = 'すもももももももものうち'\n",
    "for t in tokenizer.tokenize(string):\n",
    "    print('{}\\t{}'.format(t.surface, t.part_of_speech))"
   ]
  },
  {
   "cell_type": "code",
   "execution_count": 2,
   "id": "3c4b99a0",
   "metadata": {},
   "outputs": [
    {
     "name": "stdout",
     "output_type": "stream",
     "text": [
      "すもも\t名詞\n",
      "も\t助詞\n",
      "もも\t名詞\n",
      "も\t助詞\n",
      "もも\t名詞\n",
      "の\t助詞\n",
      "うち\t名詞\n"
     ]
    }
   ],
   "source": [
    "### リスト2 ###\n",
    "\n",
    "# 形態素解析の復習1（補足：単語と品詞名のみを得る（品詞細分類を除く）表示方法）\n",
    "# part of speech: 品詞\n",
    "\n",
    "from janome.tokenizer import Tokenizer\n",
    "\n",
    "tokenizer = Tokenizer()\n",
    "string = 'すもももももももものうち'\n",
    "for t in tokenizer.tokenize(string):\n",
    "    #print('{}\\t{}'.format(t.surface, t.part_of_speech))\n",
    "    # 単語と品詞名のみを得る場合、次のように記述する\n",
    "      print('{}\\t{}'.format(t.surface, t.part_of_speech.split(',')[0]))  "
   ]
  },
  {
   "cell_type": "code",
   "execution_count": 3,
   "id": "fd3941eb",
   "metadata": {},
   "outputs": [
    {
     "name": "stdout",
     "output_type": "stream",
     "text": [
      "四天王寺\t名詞,固有名詞,地域,一般\n",
      "の\t助詞,連体化,*,*\n",
      "境内\t名詞,一般,*,*\n",
      "は\t助詞,係助詞,*,*\n",
      "広大\t名詞,形容動詞語幹,*,*\n",
      "で\t助動詞,*,*,*\n",
      "、\t記号,読点,*,*\n",
      "その\t連体詞,*,*,*\n",
      "日本\t名詞,固有名詞,地域,国\n",
      "庭園\t名詞,一般,*,*\n",
      "は\t助詞,係助詞,*,*\n",
      "都心\t名詞,一般,*,*\n",
      "に\t助詞,格助詞,一般,*\n",
      "ある\t動詞,自立,*,*\n",
      "と\t助詞,格助詞,引用,*\n",
      "は\t助詞,係助詞,*,*\n",
      "思え\t動詞,自立,*,*\n",
      "ない\t助動詞,*,*,*\n",
      "ほど\t助詞,副助詞,*,*\n",
      "の\t助詞,連体化,*,*\n",
      "静寂\t名詞,一般,*,*\n",
      "に\t助詞,格助詞,一般,*\n",
      "包ま\t動詞,自立,*,*\n",
      "れ\t動詞,接尾,*,*\n",
      "て\t助詞,接続助詞,*,*\n",
      "いる\t動詞,非自立,*,*\n",
      "。\t記号,句点,*,*\n"
     ]
    }
   ],
   "source": [
    "### リスト3 ###\n",
    "\n",
    "# 形態素解析の復習2: やや長めの文の形態素解析\n",
    "\n",
    "from janome.tokenizer import Tokenizer\n",
    "\n",
    "tokenizer = Tokenizer()\n",
    "string = '四天王寺の境内は広大で、その日本庭園は都心にあるとは思えないほどの静寂に包まれている。'\n",
    "for t in tokenizer.tokenize(string):\n",
    "    print('{}\\t{}'.format(t.surface, t.part_of_speech))"
   ]
  },
  {
   "cell_type": "markdown",
   "id": "6b31123a",
   "metadata": {},
   "source": [
    "### 2. 形態素解析ができない場合の対処法：ユーザ辞書の構築"
   ]
  },
  {
   "cell_type": "code",
   "execution_count": 4,
   "id": "6567405e",
   "metadata": {},
   "outputs": [
    {
     "name": "stdout",
     "output_type": "stream",
     "text": [
      "ひこ\t動詞,自立,*,*\n",
      "にゃ\t助詞,特殊,*,*\n",
      "ん\t名詞,非自立,一般,*\n",
      "は\t助詞,係助詞,*,*\n",
      "滋賀\t名詞,固有名詞,地域,一般\n",
      "県\t名詞,接尾,地域,*\n",
      "彦根\t名詞,固有名詞,地域,一般\n",
      "市\t名詞,接尾,地域,*\n",
      "の\t助詞,連体化,*,*\n",
      "キャラクター\t名詞,一般,*,*\n",
      "だ\t助動詞,*,*,*\n"
     ]
    }
   ],
   "source": [
    "### リスト4 ###\n",
    "\n",
    "# 形態素解析が正しくできない例（「ひこにゃん」が正しく解析されない）\n",
    "\n",
    "from janome.tokenizer import Tokenizer\n",
    "\n",
    "tokenizer = Tokenizer()\n",
    "string = 'ひこにゃんは滋賀県彦根市のキャラクターだ'\n",
    "for t in tokenizer.tokenize(string):\n",
    "    print('{}\\t{}'.format(t.surface, t.part_of_speech))"
   ]
  },
  {
   "cell_type": "markdown",
   "id": "a207ae4c",
   "metadata": {},
   "source": [
    "#### 上記の場合、「ひこにゃん」が正しく形態素解析されていないことがわかる。このような場合には、ユーザ辞書を構築する。例えば、dataフォルダを作成し、次のように記入したcsvファイル（userdic.csv）を用意する。"
   ]
  },
  {
   "cell_type": "markdown",
   "id": "b935112e",
   "metadata": {},
   "source": [
    "ひこにゃん, 名詞, ヒコニャン"
   ]
  },
  {
   "cell_type": "code",
   "execution_count": 5,
   "id": "250b6e19",
   "metadata": {},
   "outputs": [
    {
     "name": "stdout",
     "output_type": "stream",
     "text": [
      "ひこにゃん\t 名詞,*,*,*\n",
      "は\t助詞,係助詞,*,*\n",
      "滋賀\t名詞,固有名詞,地域,一般\n",
      "県\t名詞,接尾,地域,*\n",
      "彦根\t名詞,固有名詞,地域,一般\n",
      "市\t名詞,接尾,地域,*\n",
      "の\t助詞,連体化,*,*\n",
      "キャラクター\t名詞,一般,*,*\n",
      "だ\t助動詞,*,*,*\n"
     ]
    }
   ],
   "source": [
    "### リスト5 ###\n",
    "\n",
    "# ユーザ辞書を利用した形態素解析（「ひこにゃん」が正しく解析されるようになる）\n",
    "\n",
    "string = 'ひこにゃんは滋賀県彦根市のキャラクターだ'\n",
    "tokenizer = Tokenizer('./data/userdic.csv', udic_type='simpledic')\n",
    "for t in tokenizer.tokenize(string):\n",
    "    print('{}\\t{}'.format(t.surface, t.part_of_speech))"
   ]
  },
  {
   "cell_type": "markdown",
   "id": "1aed6704",
   "metadata": {},
   "source": [
    "## 演習IIのレポートの書き方の例"
   ]
  },
  {
   "cell_type": "markdown",
   "id": "f84fd86b",
   "metadata": {},
   "source": [
    "### 課題1. \n",
    "#### 検索意図(1) おいしいラーメンが食べたい　=> q1. ラーメン　おいしいお店\n",
    "#### 検索意図(2) 大阪の公園を知りたい　=> q2. 大阪　公園\n",
    "#### ......\n",
    "##### （このように、q1～q5まで設定する）"
   ]
  },
  {
   "cell_type": "markdown",
   "id": "19a7eb69",
   "metadata": {},
   "source": [
    "### 課題2.\n",
    "#### Google: \n",
    "##### (q1) Precision@10: ???, MRR: ???\n",
    "##### (q2) Precision@10: ???, MRR: ???\n",
    "##### ......\n",
    "\n",
    "#### Microsoft Bing:\n",
    "##### (q1) Precision@10: ???, MRR: ???\n",
    "##### (q2) Precision@10: ???, MRR: ???\n",
    "##### ......\n"
   ]
  },
  {
   "cell_type": "markdown",
   "id": "7e916b93",
   "metadata": {},
   "source": [
    "### 課題3.\n",
    "#### Google: \n",
    "##### Precision@10の平均値: ???, MRRの平均値: ???\n",
    "\n",
    "#### Microsoft Bing:\n",
    "##### Precision@10の平均値: ???, MRRの平均値: ???\n"
   ]
  },
  {
   "cell_type": "code",
   "execution_count": null,
   "id": "0d7051cc",
   "metadata": {},
   "outputs": [],
   "source": []
  }
 ],
 "metadata": {
  "kernelspec": {
   "display_name": "Python 3 (ipykernel)",
   "language": "python",
   "name": "python3"
  },
  "language_info": {
   "codemirror_mode": {
    "name": "ipython",
    "version": 3
   },
   "file_extension": ".py",
   "mimetype": "text/x-python",
   "name": "python",
   "nbconvert_exporter": "python",
   "pygments_lexer": "ipython3",
   "version": "3.11.5"
  }
 },
 "nbformat": 4,
 "nbformat_minor": 5
}
